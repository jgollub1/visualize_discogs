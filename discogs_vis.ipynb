{
 "cells": [
  {
   "cell_type": "code",
   "execution_count": 323,
   "metadata": {
    "collapsed": true
   },
   "outputs": [],
   "source": [
    "# could just get each artist from release.credits, then filter out non-musicians afterwards..."
   ]
  },
  {
   "cell_type": "code",
   "execution_count": 78,
   "metadata": {
    "collapsed": true
   },
   "outputs": [],
   "source": [
    "import discogs_client\n",
    "\n",
    "token = 'eGkJSFluvBIeQCEmsueVEMZIabFbDLaPFIDcKFkg'\n",
    "d = discogs_client.Client('ExampleApplication/0.1',user_token=token)"
   ]
  },
  {
   "cell_type": "code",
   "execution_count": 308,
   "metadata": {
    "collapsed": false
   },
   "outputs": [],
   "source": [
    "# d.search('Myron Walden', type='artist')[0].id\n",
    "# d.artist(252331).name"
   ]
  },
  {
   "cell_type": "code",
   "execution_count": 309,
   "metadata": {
    "collapsed": true
   },
   "outputs": [],
   "source": [
    "# d = discogs_client.Client('ExampleApplication/0.1',user_token=token)\n",
    "# a_id = d.search('Kurt Rosenwinkel', type='artist')[0].id\n",
    "# releases = d.search(str(a_id), type='release')"
   ]
  },
  {
   "cell_type": "code",
   "execution_count": 4,
   "metadata": {
    "collapsed": false
   },
   "outputs": [],
   "source": [
    "import time\n",
    "from collections import defaultdict\n",
    "\n",
    "def discog(artist):\n",
    "    # get the artist's id; search for releases\n",
    "    d = discogs_client.Client('ExampleApplication/0.2',user_token=token)\n",
    "    a_id = d.search(artist, type='artist')[0].id\n",
    "    releases = d.search(str(a_id), type='release')\n",
    "    r_dict = {}\n",
    "    collab_dict = defaultdict(list)\n",
    "\n",
    "    for i,release in enumerate(releases):\n",
    "        r_title = release.title.split(' - ')[-1]\n",
    "        time.sleep(1)\n",
    "        #print r_title\n",
    "        if release.master==None:\n",
    "            continue\n",
    "        elif release.master.id in r_dict:\n",
    "            continue\n",
    "\n",
    "        r_dict[release.master.id] = 1\n",
    "        artist_ids = set([artist.id for artist in release.credits])\n",
    "        #print artist_ids\n",
    "\n",
    "        # add the album to list of collaborations\n",
    "        for a_id in artist_ids:\n",
    "            collab_dict[a_id] += [(r_title,release.year)]\n",
    "        r_dict[r_title] = 1\n",
    "    \n",
    "    # sort each collaboration by year, then all collaborators by volume\n",
    "    for artist in collab_dict.keys():\n",
    "        collab_dict[artist] = sorted(collab_dict[artist],key=lambda a:a[1])\n",
    "\n",
    "    collab_dict2 = []\n",
    "    for key in sorted(collab_dict,key=lambda x:len(collab_dict[x]),reverse=True):\n",
    "        collab_dict2.append((key,collab_dict[key]))\n",
    "    return collab_dict2"
   ]
  },
  {
   "cell_type": "code",
   "execution_count": 5,
   "metadata": {
    "collapsed": false
   },
   "outputs": [],
   "source": [
    "artist = 'Myron Walden'\n",
    "#artist_id = d.search(artist,type='artist')[0].id\n",
    "a = discog(artist)\n",
    "top_five = [collab for collab in a if collab[0] not in (artist_id,0)]\n",
    "top_five = top_five[:5]"
   ]
  },
  {
   "cell_type": "code",
   "execution_count": 25,
   "metadata": {
    "collapsed": true
   },
   "outputs": [],
   "source": [
    "import numpy as np\n",
    "import math\n",
    "def pol2cart(rho, phi):\n",
    "    x = rho * np.cos(phi)\n",
    "    y = rho * np.sin(phi)\n",
    "    return(x, y)"
   ]
  },
  {
   "cell_type": "code",
   "execution_count": 263,
   "metadata": {
    "collapsed": false
   },
   "outputs": [],
   "source": [
    "import networkx as nx\n",
    "\n",
    "g = nx.MultiGraph()\n",
    "g.add_node(0,name=artist,num=0)\n",
    "ann_height = .025\n",
    "pos = {0: (0,0)}\n",
    "labels = {0: artist}\n",
    "annots = [{'showarrow':False,'text':artist,'x':0,'xref':'x','y':ann_height,'yref':'y'}]\n",
    "for i,collab in enumerate(top_five):\n",
    "    a_name = d.artist(collab[0]).name\n",
    "    g.add_node(i+1,name=a_name,num=i+1)\n",
    "    labels[i+1] = a_name\n",
    "    rho, phi = (1/float(len(collab[1]))), i*(2*math.pi/5)\n",
    "    location = pol2cart(rho,phi)\n",
    "    pos[i+1] = location\n",
    "    a_dict = {'showarrow':False,'text':a_name,'x':location[0],'xref':'x','y':location[1]+ann_height,'yref':'y'}\n",
    "    annots.append(a_dict)\n",
    "    \n",
    "    for album in collab[1]:\n",
    "        g.add_edge(0,i+1)\n",
    "\n",
    "label_pos = {}\n",
    "for n, p in pos.iteritems():\n",
    "    g.node[n]['pos'] = p\n",
    "    label_pos[n] = map(sum,zip(p,(0,.05)))\n",
    "    \n",
    "# nx.draw(g,pos)\n",
    "# __ = nx.draw_networkx_labels(g,label_pos,labels,nodelist=range(6))"
   ]
  },
  {
   "cell_type": "code",
   "execution_count": 305,
   "metadata": {
    "collapsed": false
   },
   "outputs": [],
   "source": [
    "from plotly.graph_objs import *\n",
    "\n",
    "G = g\n",
    "pos=nx.get_node_attributes(G,'pos')\n",
    "\n",
    "edge_trace = Scatter(\n",
    "    x=[],\n",
    "    y=[],\n",
    "    line=Line(width=0.5,color='#888'),\n",
    "    hoverinfo='none',\n",
    "    mode='lines')\n",
    "\n",
    "for edge in G.edges():\n",
    "    x0, y0 = G.node[edge[0]]['pos']\n",
    "    x1, y1 = G.node[edge[1]]['pos']\n",
    "    edge_trace['x'] += [x0, x1, None]\n",
    "    edge_trace['y'] += [y0, y1, None]\n",
    "\n",
    "node_trace = Scatter(\n",
    "    x=[],\n",
    "    y=[],\n",
    "    text=[''],\n",
    "    textposition='top',\n",
    "    mode='markers',\n",
    "    hoverinfo='text',\n",
    "    marker=Marker(\n",
    "        showscale=True,\n",
    "        # colorscale options\n",
    "        # 'Greys' | 'Greens' | 'Bluered' | 'Hot' | 'Picnic' | 'Portland' |\n",
    "        # Jet' | 'RdBu' | 'Blackbody' | 'Earth' | 'Electric' | 'YIOrRd' | 'YIGnBu'\n",
    "        colorscale='YIGnBu',\n",
    "        reversescale=True,\n",
    "        color=[],\n",
    "        size=10,\n",
    "        colorbar=dict(\n",
    "            thickness=15,\n",
    "            title='Node Connections',\n",
    "            xanchor='left',\n",
    "            titleside='right'\n",
    "        ),\n",
    "        line=dict(width=2)))\n",
    "\n",
    "for node in G.nodes():\n",
    "    x, y = G.node[node]['pos']\n",
    "    node_trace['x'].append(x)\n",
    "    node_trace['y'].append(y)\n",
    "\n",
    "node_trace['marker']['color'].append(0)\n",
    "for i, node in enumerate(top_five):\n",
    "    node_trace['marker']['color'].append(len(G.adj[i+1][0]))\n",
    "    # add annotation if greater than 0\n",
    "    node_info = '# of connections: '+str(len(G.adj[i+1][0]))\n",
    "    node_info += '<br>' + '<br>'.join([str(tup[1])+': '+str(tup[0]) for tup in top_five[i][1]])\n",
    "    node_trace['text'].append(node_info)"
   ]
  },
  {
   "cell_type": "code",
   "execution_count": 306,
   "metadata": {
    "collapsed": false,
    "scrolled": false
   },
   "outputs": [
    {
     "name": "stdout",
     "output_type": "stream",
     "text": [
      "High five! You successfully sent some data to your account on plotly. View your plot in your browser at https://plot.ly/~jglub212/0 or inside your plot.ly account where it is named 'networkx'\n"
     ]
    },
    {
     "data": {
      "text/html": [
       "<iframe id=\"igraph\" scrolling=\"no\" style=\"border:none;\" seamless=\"seamless\" src=\"https://plot.ly/~jglub212/0.embed\" height=\"525px\" width=\"100%\"></iframe>"
      ],
      "text/plain": [
       "<plotly.tools.PlotlyDisplay object>"
      ]
     },
     "execution_count": 306,
     "metadata": {},
     "output_type": "execute_result"
    }
   ],
   "source": [
    "fig = Figure(data=Data([edge_trace, node_trace]),\n",
    "             layout=Layout(\n",
    "                title=artist + \"'s Top Five Collaborators\", #'<br>Network graph made with Python',\n",
    "                titlefont=dict(size=16),\n",
    "                showlegend=False,\n",
    "                hovermode='closest',\n",
    "                margin=dict(b=20,l=5,r=5,t=40),\n",
    "                annotations= annots,\n",
    "                xaxis=XAxis(showgrid=False, zeroline=False, showticklabels=False),\n",
    "                yaxis=YAxis(showgrid=False, zeroline=False, showticklabels=False)))\n",
    "\n",
    "py.iplot(fig, filename='networkx')"
   ]
  },
  {
   "cell_type": "code",
   "execution_count": 307,
   "metadata": {
    "collapsed": false
   },
   "outputs": [
    {
     "data": {
      "text/plain": [
       "['',\n",
       " '# of connections: 5<br>1998: Brian Blade Fellowship<br>2000: Perceptual<br>2003: Salt<br>2008: Season Of Changes<br>2014: Landmarks',\n",
       " '# of connections: 5<br>1998: Brian Blade Fellowship<br>2000: Perceptual<br>2003: Salt<br>2008: Season Of Changes<br>2014: Landmarks',\n",
       " '# of connections: 4<br>1998: Brian Blade Fellowship<br>2000: Perceptual<br>2008: Season Of Changes<br>2014: Landmarks',\n",
       " '# of connections: 3<br>1998: Brian Blade Fellowship<br>2000: Perceptual<br>2008: Season Of Changes',\n",
       " '# of connections: 2<br>2003: Salt<br>2003: Treats For The Nightwalker']"
      ]
     },
     "execution_count": 307,
     "metadata": {},
     "output_type": "execute_result"
    }
   ],
   "source": [
    "node_trace['text']"
   ]
  },
  {
   "cell_type": "code",
   "execution_count": null,
   "metadata": {
    "collapsed": true
   },
   "outputs": [],
   "source": []
  },
  {
   "cell_type": "code",
   "execution_count": 166,
   "metadata": {
    "collapsed": false
   },
   "outputs": [
    {
     "data": {
      "text/plain": [
       "{'hoverinfo': 'text',\n",
       " 'marker': {'color': [0, 0, 0, 0, 0, 0],\n",
       "  'colorbar': {'thickness': 15,\n",
       "   'title': 'Node Connections',\n",
       "   'titleside': 'right',\n",
       "   'xanchor': 'left'},\n",
       "  'colorscale': 'YIGnBu',\n",
       "  'line': {'width': 2},\n",
       "  'reversescale': True,\n",
       "  'showscale': True,\n",
       "  'size': 10},\n",
       " 'mode': 'markers',\n",
       " 'text': ['# of connections: 0',\n",
       "  '# of connections: 0',\n",
       "  '# of connections: 0',\n",
       "  '# of connections: 0',\n",
       "  '# of connections: 0',\n",
       "  '# of connections: 0'],\n",
       " 'textposition': 'top',\n",
       " 'type': 'scatter',\n",
       " 'x': [0,\n",
       "  0.20000000000000001,\n",
       "  1.2246467991473533e-17,\n",
       "  -0.25,\n",
       "  -6.1232339957367648e-17,\n",
       "  0.5],\n",
       " 'y': [0,\n",
       "  0.5,\n",
       "  0.69999999999999996,\n",
       "  0.5,\n",
       "  0.16666666666666669,\n",
       "  0.49999999999999989]}"
      ]
     },
     "execution_count": 166,
     "metadata": {},
     "output_type": "execute_result"
    }
   ],
   "source": [
    "fig.data[1]"
   ]
  },
  {
   "cell_type": "code",
   "execution_count": 161,
   "metadata": {
    "collapsed": false
   },
   "outputs": [
    {
     "name": "stdout",
     "output_type": "stream",
     "text": [
      "(252331, [(u'Brian Blade Fellowship', 1998), (u'Perceptual', 2000), (u'Salt', 2003), (u'Season Of Changes', 2008), (u'Landmarks', 2014)])\n",
      "(510174, [(u'Brian Blade Fellowship', 1998), (u'Perceptual', 2000), (u'Salt', 2003), (u'Season Of Changes', 2008), (u'Landmarks', 2014)])\n",
      "(510176, [(u'Brian Blade Fellowship', 1998), (u'Perceptual', 2000), (u'Season Of Changes', 2008), (u'Landmarks', 2014)])\n",
      "(460771, [(u'Brian Blade Fellowship', 1998), (u'Perceptual', 2000), (u'Season Of Changes', 2008)])\n",
      "(256512, [(u'Salt', 2003), (u'Treats For The Nightwalker', 2003)])\n"
     ]
    }
   ],
   "source": [
    "for collab in top_five:\n",
    "    print collab\n",
    "    a_dict = {'showarrow':False,'text':}\n",
    "    #fig.layout['annotations'].append(a_dict)"
   ]
  },
  {
   "cell_type": "code",
   "execution_count": 159,
   "metadata": {
    "collapsed": false
   },
   "outputs": [
    {
     "data": {
      "text/plain": [
       "{'showarrow': False,\n",
       " 'text': \"Python code: <a href='https://plot.ly/ipython-notebooks/network-graphs/'> https://plot.ly/ipython-notebooks/network-graphs/</a>\",\n",
       " 'x': 0.005,\n",
       " 'xref': 'paper',\n",
       " 'y': -0.002,\n",
       " 'yref': 'paper'}"
      ]
     },
     "execution_count": 159,
     "metadata": {},
     "output_type": "execute_result"
    }
   ],
   "source": [
    "fig.layout['annotations'][0]"
   ]
  },
  {
   "cell_type": "code",
   "execution_count": 124,
   "metadata": {
    "collapsed": true
   },
   "outputs": [],
   "source": [
    "f = Figure()"
   ]
  },
  {
   "cell_type": "code",
   "execution_count": 155,
   "metadata": {
    "collapsed": false
   },
   "outputs": [],
   "source": [
    "s = Scatter()\n",
    "s?"
   ]
  },
  {
   "cell_type": "code",
   "execution_count": 156,
   "metadata": {
    "collapsed": true
   },
   "outputs": [],
   "source": [
    "s.anno"
   ]
  },
  {
   "cell_type": "code",
   "execution_count": 130,
   "metadata": {
    "collapsed": false
   },
   "outputs": [
    {
     "name": "stdout",
     "output_type": "stream",
     "text": [
      "[(u'Salt', 2003), (u'Treats For The Nightwalker', 2003)]\n"
     ]
    }
   ],
   "source": [
    "print collab[1]"
   ]
  },
  {
   "cell_type": "code",
   "execution_count": 26,
   "metadata": {
    "collapsed": false
   },
   "outputs": [
    {
     "data": {
      "text/plain": [
       "u'Evelyn Morgan'"
      ]
     },
     "execution_count": 26,
     "metadata": {},
     "output_type": "execute_result"
    }
   ],
   "source": [
    "r = releases[10]\n",
    "r.credits[0].name"
   ]
  },
  {
   "cell_type": "code",
   "execution_count": 319,
   "metadata": {
    "collapsed": true
   },
   "outputs": [],
   "source": [
    "# many of the results don't have a 'master' attribute"
   ]
  },
  {
   "cell_type": "code",
   "execution_count": 320,
   "metadata": {
    "collapsed": false
   },
   "outputs": [],
   "source": [
    "#['Guitar','Piano','Drums','Synthesizer','Bass','Clarinet','Flute','Trumpet','Organ','Sax']"
   ]
  },
  {
   "cell_type": "code",
   "execution_count": 322,
   "metadata": {
    "collapsed": false
   },
   "outputs": [],
   "source": [
    "#discog('Myron Walden')"
   ]
  },
  {
   "cell_type": "code",
   "execution_count": null,
   "metadata": {
    "collapsed": false
   },
   "outputs": [],
   "source": [
    "t_d = {}\n",
    "for a in r:\n",
    "    title =  a.title.split(' - ')[-1]\n",
    "    if title not in t_d:\n",
    "        t_d[title] = 1\n",
    "for key in t_d.keys():\n",
    "    print key"
   ]
  },
  {
   "cell_type": "code",
   "execution_count": 3,
   "metadata": {
    "collapsed": false
   },
   "outputs": [
    {
     "data": {
      "text/plain": [
       "34"
      ]
     },
     "execution_count": 3,
     "metadata": {},
     "output_type": "execute_result"
    }
   ],
   "source": [
    "results = d.search('Stockholm By Night', type='release')\n",
    "results.pages"
   ]
  },
  {
   "cell_type": "code",
   "execution_count": null,
   "metadata": {
    "collapsed": true
   },
   "outputs": [],
   "source": [
    "def is_musician(s):\n",
    "    instruments = ['Guitar','Piano','Drums','Synthesizer','Bass','Clarinet','Flute','Trumpet','Organ','Sax']\n",
    "    return any(inst in s for inst in instruments)"
   ]
  },
  {
   "cell_type": "code",
   "execution_count": null,
   "metadata": {
    "collapsed": true
   },
   "outputs": [],
   "source": [
    "# artist = 'Myron Walden'\n",
    "# d = discogs_client.Client('ExampleApplication/0.2',user_token=token)\n",
    "# a_id = d.search(artist, type='artist')[0].id\n",
    "# releases = d.search(str(a_id), type='release')\n",
    "# r_dict = {}\n",
    "# collab_dict = defaultdict(list)\n",
    "\n",
    "# for i,release in enumerate(releases):\n",
    "#     r_title = release.title.split(' - ')[-1]\n",
    "#     time.sleep(1)\n",
    "#     print r_title\n",
    "#     if release.master==None:\n",
    "#         continue\n",
    "#     elif release.master.id in r_dict:\n",
    "#         continue\n",
    "    \n",
    "#     r_dict[release.master.id] = 1\n",
    "#     artist_ids = set([artist.id for artist in release.credits])\n",
    "#     print artist_ids\n",
    "\n",
    "#     # add the album to list of collaborations\n",
    "#     for a_id in artist_ids:\n",
    "#         collab_dict[a_id] += [(r_title,release.year)]\n",
    "#     r_dict[r_title] = 1\n",
    "    \n",
    "#     if i==2:\n",
    "#         break\n",
    "\n",
    "# for artist in collab_dict.keys():\n",
    "#     collab_dict[artist] = sorted(collab_dict[artist],key=lambda a:a[1])\n",
    "\n",
    "# collab_dict2 = []\n",
    "# for key in sorted(collab_dict,key=lambda x:len(collab_dict[x]),reverse=True):\n",
    "#     collab_dict2.append((key,collab_dict[key]))\n",
    "\n",
    "'''+ [ dict(\n",
    "text=\"Python code: <a href='https://plot.ly/ipython-notebooks/network-graphs/'> https://plot.ly/ipython-notebooks/network-graphs/</a>\",\n",
    "showarrow=False,\n",
    "xref=\"paper\", yref=\"paper\",\n",
    "x=0.005, y=-0.002 ) ],'''"
   ]
  }
 ],
 "metadata": {
  "kernelspec": {
   "display_name": "Python 2",
   "language": "python",
   "name": "python2"
  },
  "language_info": {
   "codemirror_mode": {
    "name": "ipython",
    "version": 2
   },
   "file_extension": ".py",
   "mimetype": "text/x-python",
   "name": "python",
   "nbconvert_exporter": "python",
   "pygments_lexer": "ipython2",
   "version": "2.7.13"
  }
 },
 "nbformat": 4,
 "nbformat_minor": 0
}
