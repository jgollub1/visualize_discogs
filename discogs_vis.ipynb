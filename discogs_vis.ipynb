{
 "cells": [
  {
   "cell_type": "code",
   "execution_count": 3,
   "metadata": {
    "collapsed": false
   },
   "outputs": [],
   "source": [
    "from discog_func import *\n",
    "\n",
    "token = 'eGkJSFluvBIeQCEmsueVEMZIabFbDLaPFIDcKFkg'\n",
    "artist = 'Myron Walden'"
   ]
  },
  {
   "cell_type": "code",
   "execution_count": 4,
   "metadata": {
    "collapsed": false
   },
   "outputs": [
    {
     "name": "stdout",
     "output_type": "stream",
     "text": [
      "346616\n"
     ]
    }
   ],
   "source": [
    "collabs = discog(artist,token)\n",
    "top_five = collabs[:5]"
   ]
  },
  {
   "cell_type": "code",
   "execution_count": 5,
   "metadata": {
    "collapsed": false
   },
   "outputs": [
    {
     "data": {
      "text/plain": [
       "[(346616,\n",
       "  [(u'Hypnosis', 1996),\n",
       "   (u'Brian Blade Fellowship', 1998),\n",
       "   (u'Perceptual', 2000),\n",
       "   (u'Premonition', 2000),\n",
       "   (u'Salt', 2003),\n",
       "   (u'Treats For The Nightwalker', 2003),\n",
       "   (u'Season Of Changes', 2008),\n",
       "   (u'On The Real Side', 2008),\n",
       "   (u'Landmarks', 2014)]),\n",
       " (252331,\n",
       "  [(u'Brian Blade Fellowship', 1998),\n",
       "   (u'Perceptual', 2000),\n",
       "   (u'Salt', 2003),\n",
       "   (u'Season Of Changes', 2008),\n",
       "   (u'Landmarks', 2014)]),\n",
       " (510174,\n",
       "  [(u'Brian Blade Fellowship', 1998),\n",
       "   (u'Perceptual', 2000),\n",
       "   (u'Salt', 2003),\n",
       "   (u'Season Of Changes', 2008),\n",
       "   (u'Landmarks', 2014)]),\n",
       " (510176,\n",
       "  [(u'Brian Blade Fellowship', 1998),\n",
       "   (u'Perceptual', 2000),\n",
       "   (u'Season Of Changes', 2008),\n",
       "   (u'Landmarks', 2014)]),\n",
       " (460771,\n",
       "  [(u'Brian Blade Fellowship', 1998),\n",
       "   (u'Perceptual', 2000),\n",
       "   (u'Season Of Changes', 2008)])]"
      ]
     },
     "execution_count": 5,
     "metadata": {},
     "output_type": "execute_result"
    }
   ],
   "source": [
    "top_five"
   ]
  },
  {
   "cell_type": "code",
   "execution_count": 9,
   "metadata": {
    "collapsed": false
   },
   "outputs": [],
   "source": [
    "# import discogs_client\n",
    "# d = discogs_client.Client('ExampleApplication/0.2',user_token=token)\n",
    "# a_id = d.search(artist, type='artist')[0].id"
   ]
  },
  {
   "cell_type": "code",
   "execution_count": null,
   "metadata": {
    "collapsed": true
   },
   "outputs": [],
   "source": [
    "node_trace, edge_trace = construct_g(artist,top_five)"
   ]
  },
  {
   "cell_type": "code",
   "execution_count": 306,
   "metadata": {
    "collapsed": false,
    "scrolled": false
   },
   "outputs": [
    {
     "name": "stdout",
     "output_type": "stream",
     "text": [
      "High five! You successfully sent some data to your account on plotly. View your plot in your browser at https://plot.ly/~jglub212/0 or inside your plot.ly account where it is named 'networkx'\n"
     ]
    },
    {
     "data": {
      "text/html": [
       "<iframe id=\"igraph\" scrolling=\"no\" style=\"border:none;\" seamless=\"seamless\" src=\"https://plot.ly/~jglub212/0.embed\" height=\"525px\" width=\"100%\"></iframe>"
      ],
      "text/plain": [
       "<plotly.tools.PlotlyDisplay object>"
      ]
     },
     "execution_count": 306,
     "metadata": {},
     "output_type": "execute_result"
    }
   ],
   "source": [
    "fig = Figure(data=Data([edge_trace, node_trace]),\n",
    "             layout=Layout(\n",
    "                title=artist + \"'s Top Five Collaborators\", #'<br>Network graph made with Python',\n",
    "                titlefont=dict(size=16),\n",
    "                showlegend=False,\n",
    "                hovermode='closest',\n",
    "                margin=dict(b=20,l=5,r=5,t=40),\n",
    "                annotations= annots,\n",
    "                xaxis=XAxis(showgrid=False, zeroline=False, showticklabels=False),\n",
    "                yaxis=YAxis(showgrid=False, zeroline=False, showticklabels=False)))\n",
    "\n",
    "py.iplot(fig, filename='networkx')"
   ]
  },
  {
   "cell_type": "code",
   "execution_count": null,
   "metadata": {
    "collapsed": true
   },
   "outputs": [],
   "source": []
  },
  {
   "cell_type": "code",
   "execution_count": null,
   "metadata": {
    "collapsed": true
   },
   "outputs": [],
   "source": []
  }
 ],
 "metadata": {
  "kernelspec": {
   "display_name": "Python 2",
   "language": "python",
   "name": "python2"
  },
  "language_info": {
   "codemirror_mode": {
    "name": "ipython",
    "version": 2
   },
   "file_extension": ".py",
   "mimetype": "text/x-python",
   "name": "python",
   "nbconvert_exporter": "python",
   "pygments_lexer": "ipython2",
   "version": "2.7.13"
  }
 },
 "nbformat": 4,
 "nbformat_minor": 0
}
